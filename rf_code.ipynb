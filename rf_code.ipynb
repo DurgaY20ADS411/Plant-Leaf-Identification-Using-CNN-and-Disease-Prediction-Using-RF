{
 "cells": [
  {
   "cell_type": "code",
   "execution_count": 1,
   "id": "74536ad7",
   "metadata": {},
   "outputs": [
    {
     "name": "stderr",
     "output_type": "stream",
     "text": [
      "C:\\Users\\DURGA\\anaconda3\\lib\\site-packages\\scipy\\__init__.py:146: UserWarning: A NumPy version >=1.16.5 and <1.23.0 is required for this version of SciPy (detected version 1.26.4\n",
      "  warnings.warn(f\"A NumPy version >={np_minversion} and <{np_maxversion}\"\n"
     ]
    }
   ],
   "source": [
    "import os\n",
    "import cv2\n",
    "import numpy as np\n",
    "from sklearn.ensemble import RandomForestClassifier\n",
    "from sklearn.model_selection import train_test_split\n",
    "from skimage.io import imread\n",
    "from skimage.transform import resize\n",
    "from skimage.feature import hog"
   ]
  },
  {
   "cell_type": "code",
   "execution_count": 2,
   "id": "ac2f4ae7",
   "metadata": {},
   "outputs": [],
   "source": [
    "def load_images_and_extract_features(dataset_dir):\n",
    "    images = []\n",
    "    labels = []\n",
    "\n",
    "    for label_idx, label in enumerate(os.listdir(dataset_dir)):\n",
    "        label_dir = os.path.join(dataset_dir, label)\n",
    "        for image_file in os.listdir(label_dir):\n",
    "            image_path = os.path.join(label_dir, image_file)\n",
    "            try:\n",
    "                image = cv2.imread(image_path)\n",
    "                if image is not None:\n",
    "                    # Resize image to a fixed size\n",
    "                    image = resize(image, (100, 100))\n",
    "                    # Extract features using Histogram of Oriented Gradients (HOG)\n",
    "                    features = hog(image, pixels_per_cell=(8, 8), cells_per_block=(2, 2), multichannel=True, channel_axis=-1)\n",
    "                    images.append(features)\n",
    "                    labels.append(label)\n",
    "                else:\n",
    "                    print(\"Failed to load image:\", image_path)\n",
    "            except Exception as e:\n",
    "                print(\"Error loading image:\", image_path)\n",
    "                print(e)\n",
    "\n",
    "    return np.array(images), np.array(labels)\n"
   ]
  },
  {
   "cell_type": "code",
   "execution_count": 3,
   "id": "334100cf",
   "metadata": {},
   "outputs": [],
   "source": [
    "# Path to Plant Village dataset\n",
    "dataset_dir = \"D://New Plant Diseases Dataset(Augmented)//New Plant Diseases Dataset(Augmented)//train\""
   ]
  },
  {
   "cell_type": "code",
   "execution_count": 4,
   "id": "4be96987",
   "metadata": {},
   "outputs": [
    {
     "name": "stderr",
     "output_type": "stream",
     "text": [
      "C:\\Users\\DURGA\\AppData\\Local\\Temp\\ipykernel_11916\\2119071562.py:15: FutureWarning: `multichannel` is a deprecated argument name for `hog`. It will be removed in version 1.0. Please use `channel_axis` instead.\n",
      "  features = hog(image, pixels_per_cell=(8, 8), cells_per_block=(2, 2), multichannel=True, channel_axis=-1)\n"
     ]
    }
   ],
   "source": [
    "# Load images and extract features\n",
    "images, labels = load_images_and_extract_features(dataset_dir)\n"
   ]
  },
  {
   "cell_type": "code",
   "execution_count": 5,
   "id": "23ffdc0c",
   "metadata": {},
   "outputs": [
    {
     "name": "stdout",
     "output_type": "stream",
     "text": [
      "Number of images: 70295\n",
      "Number of labels: 70295\n"
     ]
    }
   ],
   "source": [
    "print(\"Number of images:\", len(images))\n",
    "print(\"Number of labels:\", len(labels))\n"
   ]
  },
  {
   "cell_type": "code",
   "execution_count": 6,
   "id": "82a1fc51",
   "metadata": {},
   "outputs": [],
   "source": [
    "# Split dataset into train and test sets\n",
    "X_train, X_test, y_train, y_test = train_test_split(images, labels, test_size=0.2, random_state=42)\n"
   ]
  },
  {
   "cell_type": "code",
   "execution_count": 7,
   "id": "dae4d04e",
   "metadata": {},
   "outputs": [],
   "source": [
    "# Initialize Random Forest Classifier\n",
    "clf = RandomForestClassifier(n_estimators=100, random_state=42)\n"
   ]
  },
  {
   "cell_type": "code",
   "execution_count": null,
   "id": "16c22d58",
   "metadata": {},
   "outputs": [],
   "source": [
    "# Train the classifier\n",
    "clf.fit(X_train, y_train)"
   ]
  },
  {
   "cell_type": "code",
   "execution_count": 16,
   "id": "02b90914",
   "metadata": {},
   "outputs": [
    {
     "name": "stdout",
     "output_type": "stream",
     "text": [
      "Validation Accuracy: 0.5554449107333381\n"
     ]
    }
   ],
   "source": [
    "# Evaluate the classifier on the validation set\n",
    "accuracy_val = clf.score(X_test, y_test)\n",
    "print(\"Validation Accuracy:\", accuracy_val)\n"
   ]
  },
  {
   "cell_type": "code",
   "execution_count": null,
   "id": "0d7339b3",
   "metadata": {},
   "outputs": [],
   "source": [
    "# Evaluate the classifier\n",
    "accuracy = clf.score(X_test, y_test)\n",
    "print(\"Accuracy:\", accuracy)"
   ]
  },
  {
   "cell_type": "code",
   "execution_count": 10,
   "id": "c802a247",
   "metadata": {},
   "outputs": [
    {
     "data": {
      "text/plain": [
       "['rf_model.pkl']"
      ]
     },
     "execution_count": 10,
     "metadata": {},
     "output_type": "execute_result"
    }
   ],
   "source": [
    "import joblib\n",
    "\n",
    "# Save the trained model to a file\n",
    "joblib.dump(clf, 'rf_model.pkl')\n"
   ]
  },
  {
   "cell_type": "code",
   "execution_count": null,
   "id": "8044f159",
   "metadata": {},
   "outputs": [],
   "source": []
  }
 ],
 "metadata": {
  "kernelspec": {
   "display_name": "Python 3 (ipykernel)",
   "language": "python",
   "name": "python3"
  },
  "language_info": {
   "codemirror_mode": {
    "name": "ipython",
    "version": 3
   },
   "file_extension": ".py",
   "mimetype": "text/x-python",
   "name": "python",
   "nbconvert_exporter": "python",
   "pygments_lexer": "ipython3",
   "version": "3.9.12"
  }
 },
 "nbformat": 4,
 "nbformat_minor": 5
}
