{
 "cells": [
  {
   "cell_type": "code",
   "execution_count": 1,
   "id": "04e47ecf",
   "metadata": {},
   "outputs": [
    {
     "name": "stderr",
     "output_type": "stream",
     "text": [
      "C:\\Users\\DURGA\\anaconda3\\lib\\site-packages\\scipy\\__init__.py:146: UserWarning: A NumPy version >=1.16.5 and <1.23.0 is required for this version of SciPy (detected version 1.26.4\n",
      "  warnings.warn(f\"A NumPy version >={np_minversion} and <{np_maxversion}\"\n"
     ]
    }
   ],
   "source": [
    "import os\n",
    "import numpy as np\n",
    "from PIL import Image\n",
    "from sklearn.model_selection import train_test_split\n",
    "from sklearn.ensemble import RandomForestClassifier\n",
    "from sklearn.metrics import accuracy_score\n"
   ]
  },
  {
   "cell_type": "code",
   "execution_count": 2,
   "id": "54f16dcc",
   "metadata": {},
   "outputs": [],
   "source": [
    "# Function to load and preprocess images\n",
    "def load_images(dataset_folder):\n",
    "    images = []\n",
    "    labels = []\n",
    "    for folder in os.listdir(dataset_folder):\n",
    "        folder_path = os.path.join(dataset_folder, folder)\n",
    "        if os.path.isdir(folder_path):\n",
    "            for file in os.listdir(folder_path):\n",
    "                if file.endswith(\".jpg\") or file.endswith(\".png\"):\n",
    "                    image_path = os.path.join(folder_path, file)\n",
    "                    image = Image.open(image_path)\n",
    "                    image = image.convert(\"RGB\")  # Convert to RGB mode\n",
    "                    image = image.resize((256, 256))  # Resize images to a common size\n",
    "                    images.append(np.array(image))\n",
    "                    labels.append(folder)\n",
    "    return np.array(images), np.array(labels)\n"
   ]
  },
  {
   "cell_type": "code",
   "execution_count": 3,
   "id": "b0acac95",
   "metadata": {},
   "outputs": [],
   "source": [
    "# Path to the dataset folder\n",
    "dataset_folder = \"D:/New Plant Diseases Dataset(Augmented)/New Plant Diseases Dataset(Augmented)/train\"\n"
   ]
  },
  {
   "cell_type": "code",
   "execution_count": 4,
   "id": "75706a07",
   "metadata": {},
   "outputs": [],
   "source": [
    "# Load and preprocess images\n",
    "images, labels = load_images(dataset_folder)"
   ]
  },
  {
   "cell_type": "code",
   "execution_count": 5,
   "id": "c40b08e5",
   "metadata": {},
   "outputs": [],
   "source": [
    "# Split the dataset into training and testing sets\n",
    "X_train, X_test, y_train, y_test = train_test_split(images, labels, test_size=0.2, random_state=42)\n"
   ]
  },
  {
   "cell_type": "code",
   "execution_count": 6,
   "id": "8faafbf4",
   "metadata": {},
   "outputs": [
    {
     "data": {
      "text/plain": [
       "RandomForestClassifier(random_state=42)"
      ]
     },
     "execution_count": 6,
     "metadata": {},
     "output_type": "execute_result"
    }
   ],
   "source": [
    "# Train the Random Forest model\n",
    "model = RandomForestClassifier(n_estimators=100, random_state=42)\n",
    "model.fit(X_train.reshape(len(X_train), -1), y_train)  # Reshape images to 1D arrays for training\n"
   ]
  },
  {
   "cell_type": "code",
   "execution_count": 7,
   "id": "a876e3f7",
   "metadata": {},
   "outputs": [
    {
     "name": "stdout",
     "output_type": "stream",
     "text": [
      "Test Accuracy: 0.9448979591836735\n"
     ]
    }
   ],
   "source": [
    "# Evaluate the model\n",
    "y_pred = model.predict(X_test.reshape(len(X_test), -1))\n",
    "accuracy = accuracy_score(y_test, y_pred)\n",
    "print(\"Test Accuracy:\", accuracy)"
   ]
  },
  {
   "cell_type": "code",
   "execution_count": 8,
   "id": "7a847e0b",
   "metadata": {},
   "outputs": [
    {
     "name": "stdout",
     "output_type": "stream",
     "text": [
      "Model saved as new_rf_model.pkl\n"
     ]
    }
   ],
   "source": [
    "import joblib\n",
    "\n",
    "# Save the trained model to a file\n",
    "model_file = \"new_rf_model.pkl\"\n",
    "joblib.dump(model, model_file)\n",
    "print(\"Model saved as\", model_file)\n"
   ]
  },
  {
   "cell_type": "code",
   "execution_count": null,
   "id": "b37d1849",
   "metadata": {},
   "outputs": [],
   "source": []
  },
  {
   "cell_type": "code",
   "execution_count": null,
   "id": "27e1aeac",
   "metadata": {},
   "outputs": [],
   "source": []
  }
 ],
 "metadata": {
  "kernelspec": {
   "display_name": "Python 3 (ipykernel)",
   "language": "python",
   "name": "python3"
  },
  "language_info": {
   "codemirror_mode": {
    "name": "ipython",
    "version": 3
   },
   "file_extension": ".py",
   "mimetype": "text/x-python",
   "name": "python",
   "nbconvert_exporter": "python",
   "pygments_lexer": "ipython3",
   "version": "3.9.12"
  }
 },
 "nbformat": 4,
 "nbformat_minor": 5
}
